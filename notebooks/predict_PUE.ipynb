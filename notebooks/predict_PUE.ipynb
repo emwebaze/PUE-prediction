{
  "nbformat": 4,
  "nbformat_minor": 0,
  "metadata": {
    "colab": {
      "provenance": [],
      "authorship_tag": "ABX9TyMIlBfNjkoCmmls9vVjijHJ",
      "include_colab_link": true
    },
    "kernelspec": {
      "name": "python3",
      "display_name": "Python 3"
    },
    "language_info": {
      "name": "python"
    }
  },
  "cells": [
    {
      "cell_type": "markdown",
      "metadata": {
        "id": "view-in-github",
        "colab_type": "text"
      },
      "source": [
        "<a href=\"https://colab.research.google.com/github/emwebaze/PUE-prediction/blob/main/notebooks/predict_PUE.ipynb\" target=\"_parent\"><img src=\"https://colab.research.google.com/assets/colab-badge.svg\" alt=\"Open In Colab\"/></a>"
      ]
    },
    {
      "cell_type": "markdown",
      "source": [
        "# Predict PUE\n",
        "Build a model or formular for predicting PUE from features extracted from geographical features of villages."
      ],
      "metadata": {
        "id": "Hs3Syh_DaGxk"
      }
    },
    {
      "cell_type": "code",
      "execution_count": null,
      "metadata": {
        "id": "XDOKbUUcV7ko"
      },
      "outputs": [],
      "source": [
        "import pandas as pd\n",
        "import numpy as np\n",
        "from sklearn.linear_model import LinearRegression\n",
        "from sklearn.preprocessing import PolynomialFeatures\n",
        "from sklearn.ensemble import RandomForestRegressor\n",
        "import xgboost as xgb\n",
        "from sklearn.metrics import mean_squared_error, r2_score\n",
        "import pickle"
      ]
    },
    {
      "cell_type": "markdown",
      "source": [
        "## Load and preprocess data\n",
        "\n",
        "Load data of existing mini grids."
      ],
      "metadata": {
        "id": "NDNLrJ_TbIsj"
      }
    },
    {
      "cell_type": "code",
      "source": [
        "# Load data\n",
        "data = pd.read_csv(\"existing_minigrid_trainingdata.csv\")\n",
        "\n",
        "# Sample data loading (replace this with actual data loading if needed)\n",
        "# Here, I’ll assume the data is already in a DataFrame `data` from the uploaded document\n",
        "\n",
        "# Selected features (excluding specified ones)\n",
        "features = ['building_count', 'permanent_building_count', 'educational_facilities',\n",
        "            'health_facilities', 'social_facilities', 'services', 'primary_roads', 'secondary_roads',\n",
        "            'tertiary_roads', 'unclassified_roads', 'percentage_crop_land', 'percentage_built_area',\n",
        "            'mean_pvout_solar_radiation', 'mean_wind_speed']\n",
        "X = data[features]\n",
        "y = data['winch_prob']\n",
        "\n",
        "# Split 30% of the data randomly for evaluation\n",
        "np.random.seed(42)  # For reproducibility\n",
        "eval_indices = np.random.choice(X.index, size=int(0.3 * len(X)), replace=False)\n",
        "X_eval = X.loc[eval_indices]\n",
        "y_eval = y.loc[eval_indices]\n",
        "X_train = X  # Train on full dataset\n",
        "y_train = y\n",
        "\n",
        "# Helper function to evaluate models\n",
        "def evaluate_model(y_true, y_pred, model_name):\n",
        "    mse = mean_squared_error(y_true, y_pred)\n",
        "    r2 = r2_score(y_true, y_pred)\n",
        "    print(f\"\\n{model_name} Performance on 30% Evaluation Set:\")\n",
        "    print(f\"Mean Squared Error: {mse:.4f}\")\n",
        "    print(f\"R² Score: {r2:.4f}\")\n",
        "\n"
      ],
      "metadata": {
        "id": "k0v2u2W9WHK-"
      },
      "execution_count": null,
      "outputs": []
    },
    {
      "cell_type": "code",
      "source": [
        "# 1. Linear Regression\n",
        "lin_reg = LinearRegression()\n",
        "lin_reg.fit(X_train, y_train)\n",
        "y_pred_lin = lin_reg.predict(X_eval)\n",
        "\n",
        "# Save Linear Regression model\n",
        "with open('lin_reg.pkl', 'wb') as f:\n",
        "    pickle.dump(lin_reg, f)\n",
        "\n",
        "# Coefficients\n",
        "print(\"Linear Regression Coefficients:\")\n",
        "for feature, coef in zip(features, lin_reg.coef_):\n",
        "    print(f\"{feature}: {coef:.4f}\")\n",
        "print(f\"Intercept: {lin_reg.intercept_:.4f}\")\n",
        "\n",
        "evaluate_model(y_eval, y_pred_lin, \"Linear Regression\")\n",
        "\n",
        "# Sample PUE formula (Linear)\n",
        "print(\"\\nLinear PUE Formula:\")\n",
        "formula = f\"PUE = {lin_reg.intercept_:.4f}\"\n",
        "for i, coef in enumerate(lin_reg.coef_):\n",
        "    formula += f\" + {coef:.4f} * {features[i]}\"\n",
        "print(formula)\n",
        "\n",
        "# 2. Polynomial Regression (degree 2)\n",
        "poly = PolynomialFeatures(degree=2, include_bias=False)\n",
        "X_train_poly = poly.fit_transform(X_train)\n",
        "X_eval_poly = poly.transform(X_eval)\n",
        "\n",
        "poly_reg = LinearRegression()\n",
        "poly_reg.fit(X_train_poly, y_train)\n",
        "y_pred_poly = poly_reg.predict(X_eval_poly)\n",
        "\n",
        "# Save Polynomial Regression model and PolynomialFeatures object\n",
        "with open('poly_reg.pkl', 'wb') as f:\n",
        "    pickle.dump(poly_reg, f)\n",
        "with open('poly_features.pkl', 'wb') as f:\n",
        "    pickle.dump(poly, f)\n",
        "\n",
        "evaluate_model(y_eval, y_pred_poly, \"Polynomial Regression (degree 2)\")\n",
        "\n",
        "# 3. Random Forest Regression\n",
        "rf_reg = RandomForestRegressor(n_estimators=100, max_depth=5, random_state=42)\n",
        "rf_reg.fit(X_train, y_train)\n",
        "y_pred_rf = rf_reg.predict(X_eval)\n",
        "\n",
        "# Save Random Forest model\n",
        "with open('rf_reg.pkl', 'wb') as f:\n",
        "    pickle.dump(rf_reg, f)\n",
        "\n",
        "# Feature importance\n",
        "print(\"\\nRandom Forest Feature Importances:\")\n",
        "for feature, importance in zip(features, rf_reg.feature_importances_):\n",
        "    print(f\"{feature}: {importance:.4f}\")\n",
        "\n",
        "evaluate_model(y_eval, y_pred_rf, \"Random Forest Regression\")\n",
        "\n",
        "# 4. XGBoost Regression\n",
        "xgb_reg = xgb.XGBRegressor(n_estimators=100, max_depth=3, learning_rate=0.1, random_state=42, objective='reg:squarederror')\n",
        "xgb_reg.fit(X_train, y_train)\n",
        "y_pred_xgb = xgb_reg.predict(X_eval)\n",
        "\n",
        "# Save XGBoost model\n",
        "with open('xgb_reg.pkl', 'wb') as f:\n",
        "    pickle.dump(xgb_reg, f)\n",
        "\n",
        "# Feature importance\n",
        "print(\"\\nXGBoost Feature Importances:\")\n",
        "for feature, importance in zip(features, xgb_reg.feature_importances_):\n",
        "    print(f\"{feature}: {importance:.4f}\")\n",
        "\n",
        "evaluate_model(y_eval, y_pred_xgb, \"XGBoost Regression\")"
      ],
      "metadata": {
        "colab": {
          "base_uri": "https://localhost:8080/"
        },
        "id": "mF67qn0_WLqq",
        "outputId": "1699e5a2-9f84-42b4-beba-38b8a56615ec"
      },
      "execution_count": null,
      "outputs": [
        {
          "output_type": "stream",
          "name": "stdout",
          "text": [
            "Linear Regression Coefficients:\n",
            "building_count: 0.0001\n",
            "permanent_building_count: 0.0008\n",
            "educational_facilities: -0.0743\n",
            "health_facilities: 0.0472\n",
            "social_facilities: -0.0000\n",
            "services: -0.0000\n",
            "primary_roads: 0.0000\n",
            "secondary_roads: -0.0610\n",
            "tertiary_roads: -0.0279\n",
            "unclassified_roads: -0.0167\n",
            "percentage_crop_land: 0.0017\n",
            "percentage_built_area: 0.0164\n",
            "mean_pvout_solar_radiation: 0.0004\n",
            "mean_wind_speed: 0.1129\n",
            "Intercept: -0.2687\n",
            "\n",
            "Linear Regression Performance on 30% Evaluation Set:\n",
            "Mean Squared Error: 0.0143\n",
            "R² Score: 0.6570\n",
            "\n",
            "Linear PUE Formula:\n",
            "PUE = -0.2687 + 0.0001 * building_count + 0.0008 * permanent_building_count + -0.0743 * educational_facilities + 0.0472 * health_facilities + -0.0000 * social_facilities + -0.0000 * services + 0.0000 * primary_roads + -0.0610 * secondary_roads + -0.0279 * tertiary_roads + -0.0167 * unclassified_roads + 0.0017 * percentage_crop_land + 0.0164 * percentage_built_area + 0.0004 * mean_pvout_solar_radiation + 0.1129 * mean_wind_speed\n",
            "\n",
            "Polynomial Regression (degree 2) Performance on 30% Evaluation Set:\n",
            "Mean Squared Error: 0.0000\n",
            "R² Score: 0.9993\n",
            "\n",
            "Random Forest Feature Importances:\n",
            "building_count: 0.1624\n",
            "permanent_building_count: 0.3704\n",
            "educational_facilities: 0.0212\n",
            "health_facilities: 0.0035\n",
            "social_facilities: 0.0000\n",
            "services: 0.0000\n",
            "primary_roads: 0.0000\n",
            "secondary_roads: 0.0129\n",
            "tertiary_roads: 0.0095\n",
            "unclassified_roads: 0.0288\n",
            "percentage_crop_land: 0.0410\n",
            "percentage_built_area: 0.3023\n",
            "mean_pvout_solar_radiation: 0.0463\n",
            "mean_wind_speed: 0.0018\n",
            "\n",
            "Random Forest Regression Performance on 30% Evaluation Set:\n",
            "Mean Squared Error: 0.0043\n",
            "R² Score: 0.8970\n",
            "\n",
            "XGBoost Feature Importances:\n",
            "building_count: 0.0599\n",
            "permanent_building_count: 0.4093\n",
            "educational_facilities: 0.0549\n",
            "health_facilities: 0.0056\n",
            "social_facilities: 0.0000\n",
            "services: 0.0000\n",
            "primary_roads: 0.0000\n",
            "secondary_roads: 0.1154\n",
            "tertiary_roads: 0.0381\n",
            "unclassified_roads: 0.0170\n",
            "percentage_crop_land: 0.0484\n",
            "percentage_built_area: 0.2338\n",
            "mean_pvout_solar_radiation: 0.0140\n",
            "mean_wind_speed: 0.0036\n",
            "\n",
            "XGBoost Regression Performance on 30% Evaluation Set:\n",
            "Mean Squared Error: 0.0000\n",
            "R² Score: 0.9988\n"
          ]
        }
      ]
    },
    {
      "cell_type": "code",
      "source": [
        "!zip -r pue_models.zip lin_reg.pkl poly_reg.pkl poly_features.pkl rf_reg.pkl xgb_reg.pkl"
      ],
      "metadata": {
        "colab": {
          "base_uri": "https://localhost:8080/"
        },
        "id": "wBchhC6SWlU3",
        "outputId": "fce91b54-b8a6-4c5c-80d3-6f22d0769917"
      },
      "execution_count": null,
      "outputs": [
        {
          "output_type": "stream",
          "name": "stdout",
          "text": [
            "  adding: lin_reg.pkl (deflated 24%)\n",
            "  adding: poly_reg.pkl (deflated 21%)\n",
            "  adding: poly_features.pkl (deflated 36%)\n",
            "  adding: rf_reg.pkl (deflated 84%)\n",
            "  adding: xgb_reg.pkl (deflated 87%)\n"
          ]
        }
      ]
    }
  ]
}